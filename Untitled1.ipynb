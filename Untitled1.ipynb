{
  "nbformat": 4,
  "nbformat_minor": 0,
  "metadata": {
    "colab": {
      "provenance": [],
      "gpuType": "T4"
    },
    "kernelspec": {
      "name": "python3",
      "display_name": "Python 3"
    },
    "language_info": {
      "name": "python"
    },
    "accelerator": "GPU"
  },
  "cells": [
    {
      "cell_type": "code",
      "execution_count": 1,
      "metadata": {
        "colab": {
          "base_uri": "https://localhost:8080/"
        },
        "id": "61SMiQl0ZoXT",
        "outputId": "bcf1a5d3-b33a-42c7-ba89-5e21ae04b026"
      },
      "outputs": [
        {
          "output_type": "stream",
          "name": "stdout",
          "text": [
            "Drive already mounted at /content/drive; to attempt to forcibly remount, call drive.mount(\"/content/drive\", force_remount=True).\n"
          ]
        }
      ],
      "source": [
        "from google.colab import drive\n",
        "drive.mount('/content/drive')\n"
      ]
    },
    {
      "cell_type": "code",
      "source": [
        "import os\n",
        "os.chdir('/content/drive/MyDrive/LViT')\n"
      ],
      "metadata": {
        "id": "L98A2B2qad6P"
      },
      "execution_count": 2,
      "outputs": []
    },
    {
      "cell_type": "code",
      "source": [
        "%ls\n"
      ],
      "metadata": {
        "colab": {
          "base_uri": "https://localhost:8080/"
        },
        "id": "UhyJkf7xapiD",
        "outputId": "28090ea1-9d8d-4d49-9a90-43758ea02625"
      },
      "execution_count": 3,
      "outputs": [
        {
          "output_type": "stream",
          "name": "stdout",
          "text": [
            "Config.py  LICENSE          \u001b[0m\u001b[01;34mMoNuSeg\u001b[0m/      README.md         train_model.py\n",
            "\u001b[01;34mdatasets\u001b[0m/  Load_Dataset.py  \u001b[01;34mnets\u001b[0m/         requirements.txt  Train_one_epoch.py\n",
            "\u001b[01;34mIMG\u001b[0m/       \u001b[01;34mLV_loss\u001b[0m/         \u001b[01;34m__pycache__\u001b[0m/  test_model.py     utils.py\n"
          ]
        }
      ]
    },
    {
      "cell_type": "code",
      "source": [
        "import os\n",
        "import sys\n",
        "import numpy as np\n",
        "import torch\n",
        "import torch.nn as nn\n",
        "import torch.nn.functional as F\n",
        "import matplotlib.pyplot as plt\n",
        "from torchvision import transforms, datasets\n",
        "from torch.utils.data import DataLoader\n",
        "from sklearn.metrics import confusion_matrix, classification_report"
      ],
      "metadata": {
        "id": "MInxbzXeas4A"
      },
      "execution_count": 4,
      "outputs": []
    },
    {
      "cell_type": "code",
      "source": [
        "!touch nets/__init__.py\n",
        "!touch datasets/__init__.py\n",
        "!touch LV_loss/__init__.py\n"
      ],
      "metadata": {
        "id": "XJkxVpvpawFU"
      },
      "execution_count": 7,
      "outputs": []
    },
    {
      "cell_type": "code",
      "source": [
        "!pip install torchinfo\n"
      ],
      "metadata": {
        "colab": {
          "base_uri": "https://localhost:8080/"
        },
        "id": "hEICahrZaz2j",
        "outputId": "a09e5bf5-8e4f-47a0-a9b1-bad00b3e1f80"
      },
      "execution_count": 5,
      "outputs": [
        {
          "output_type": "stream",
          "name": "stdout",
          "text": [
            "Requirement already satisfied: torchinfo in /usr/local/lib/python3.11/dist-packages (1.8.0)\n"
          ]
        }
      ]
    },
    {
      "cell_type": "code",
      "source": [
        "import torch\n",
        "torch.cuda.is_available()\n"
      ],
      "metadata": {
        "colab": {
          "base_uri": "https://localhost:8080/"
        },
        "id": "DiOYedcla5rk",
        "outputId": "5276c3e7-e85c-4a34-8a74-54d5a95ed387"
      },
      "execution_count": 6,
      "outputs": [
        {
          "output_type": "execute_result",
          "data": {
            "text/plain": [
              "True"
            ]
          },
          "metadata": {},
          "execution_count": 6
        }
      ]
    },
    {
      "cell_type": "code",
      "source": [
        "!pip install tensorboardX"
      ],
      "metadata": {
        "colab": {
          "base_uri": "https://localhost:8080/"
        },
        "id": "I2PHV_vcbdA1",
        "outputId": "75c6dd1c-d15f-4ccb-b430-56e4f82c4ecb"
      },
      "execution_count": 9,
      "outputs": [
        {
          "output_type": "stream",
          "name": "stdout",
          "text": [
            "Collecting tensorboardX\n",
            "  Downloading tensorboardX-2.6.2.2-py2.py3-none-any.whl.metadata (5.8 kB)\n",
            "Requirement already satisfied: numpy in /usr/local/lib/python3.11/dist-packages (from tensorboardX) (2.0.2)\n",
            "Requirement already satisfied: packaging in /usr/local/lib/python3.11/dist-packages (from tensorboardX) (24.2)\n",
            "Requirement already satisfied: protobuf>=3.20 in /usr/local/lib/python3.11/dist-packages (from tensorboardX) (5.29.4)\n",
            "Downloading tensorboardX-2.6.2.2-py2.py3-none-any.whl (101 kB)\n",
            "\u001b[?25l   \u001b[90m━━━━━━━━━━━━━━━━━━━━━━━━━━━━━━━━━━━━━━━━\u001b[0m \u001b[32m0.0/101.7 kB\u001b[0m \u001b[31m?\u001b[0m eta \u001b[36m-:--:--\u001b[0m\r\u001b[2K   \u001b[90m━━━━━━━━━━━━━━━━━━━━━━━━━━━━━━━━━━━━━━━━\u001b[0m \u001b[32m101.7/101.7 kB\u001b[0m \u001b[31m4.9 MB/s\u001b[0m eta \u001b[36m0:00:00\u001b[0m\n",
            "\u001b[?25hInstalling collected packages: tensorboardX\n",
            "Successfully installed tensorboardX-2.6.2.2\n"
          ]
        }
      ]
    },
    {
      "cell_type": "code",
      "source": [
        "!pip install ml_collections"
      ],
      "metadata": {
        "colab": {
          "base_uri": "https://localhost:8080/"
        },
        "id": "ErToPovRbq6E",
        "outputId": "b666d238-9720-4bab-f37f-38bdab68590f"
      },
      "execution_count": 10,
      "outputs": [
        {
          "output_type": "stream",
          "name": "stdout",
          "text": [
            "Collecting ml_collections\n",
            "  Downloading ml_collections-1.1.0-py3-none-any.whl.metadata (22 kB)\n",
            "Requirement already satisfied: absl-py in /usr/local/lib/python3.11/dist-packages (from ml_collections) (1.4.0)\n",
            "Requirement already satisfied: PyYAML in /usr/local/lib/python3.11/dist-packages (from ml_collections) (6.0.2)\n",
            "Downloading ml_collections-1.1.0-py3-none-any.whl (76 kB)\n",
            "\u001b[?25l   \u001b[90m━━━━━━━━━━━━━━━━━━━━━━━━━━━━━━━━━━━━━━━━\u001b[0m \u001b[32m0.0/76.7 kB\u001b[0m \u001b[31m?\u001b[0m eta \u001b[36m-:--:--\u001b[0m\r\u001b[2K   \u001b[90m━━━━━━━━━━━━━━━━━━━━━━━━━━━━━━━━━━━━━━━━\u001b[0m \u001b[32m76.7/76.7 kB\u001b[0m \u001b[31m7.1 MB/s\u001b[0m eta \u001b[36m0:00:00\u001b[0m\n",
            "\u001b[?25hInstalling collected packages: ml_collections\n",
            "Successfully installed ml_collections-1.1.0\n"
          ]
        }
      ]
    },
    {
      "cell_type": "code",
      "source": [
        "!pip install --upgrade requests\n",
        "!pip install --upgrade urllib3 google-cloud-storage"
      ],
      "metadata": {
        "colab": {
          "base_uri": "https://localhost:8080/",
          "height": 880
        },
        "id": "ieTOEm0ectjA",
        "outputId": "8f93499f-565a-48e6-b319-defc9899e968"
      },
      "execution_count": 11,
      "outputs": [
        {
          "output_type": "stream",
          "name": "stdout",
          "text": [
            "Requirement already satisfied: requests in /usr/local/lib/python3.11/dist-packages (2.32.3)\n",
            "Requirement already satisfied: charset-normalizer<4,>=2 in /usr/local/lib/python3.11/dist-packages (from requests) (3.4.1)\n",
            "Requirement already satisfied: idna<4,>=2.5 in /usr/local/lib/python3.11/dist-packages (from requests) (3.10)\n",
            "Requirement already satisfied: urllib3<3,>=1.21.1 in /usr/local/lib/python3.11/dist-packages (from requests) (2.3.0)\n",
            "Requirement already satisfied: certifi>=2017.4.17 in /usr/local/lib/python3.11/dist-packages (from requests) (2025.1.31)\n",
            "Requirement already satisfied: urllib3 in /usr/local/lib/python3.11/dist-packages (2.3.0)\n",
            "Collecting urllib3\n",
            "  Downloading urllib3-2.4.0-py3-none-any.whl.metadata (6.5 kB)\n",
            "Requirement already satisfied: google-cloud-storage in /usr/local/lib/python3.11/dist-packages (2.19.0)\n",
            "Collecting google-cloud-storage\n",
            "  Downloading google_cloud_storage-3.1.0-py2.py3-none-any.whl.metadata (12 kB)\n",
            "Requirement already satisfied: google-auth<3.0dev,>=2.26.1 in /usr/local/lib/python3.11/dist-packages (from google-cloud-storage) (2.38.0)\n",
            "Requirement already satisfied: google-api-core<3.0.0dev,>=2.15.0 in /usr/local/lib/python3.11/dist-packages (from google-cloud-storage) (2.24.2)\n",
            "Requirement already satisfied: google-cloud-core<3.0dev,>=2.4.2 in /usr/local/lib/python3.11/dist-packages (from google-cloud-storage) (2.4.3)\n",
            "Requirement already satisfied: google-resumable-media>=2.7.2 in /usr/local/lib/python3.11/dist-packages (from google-cloud-storage) (2.7.2)\n",
            "Requirement already satisfied: requests<3.0.0dev,>=2.18.0 in /usr/local/lib/python3.11/dist-packages (from google-cloud-storage) (2.32.3)\n",
            "Requirement already satisfied: google-crc32c<2.0dev,>=1.0 in /usr/local/lib/python3.11/dist-packages (from google-cloud-storage) (1.7.1)\n",
            "Requirement already satisfied: googleapis-common-protos<2.0.0,>=1.56.2 in /usr/local/lib/python3.11/dist-packages (from google-api-core<3.0.0dev,>=2.15.0->google-cloud-storage) (1.70.0)\n",
            "Requirement already satisfied: protobuf!=3.20.0,!=3.20.1,!=4.21.0,!=4.21.1,!=4.21.2,!=4.21.3,!=4.21.4,!=4.21.5,<7.0.0,>=3.19.5 in /usr/local/lib/python3.11/dist-packages (from google-api-core<3.0.0dev,>=2.15.0->google-cloud-storage) (5.29.4)\n",
            "Requirement already satisfied: proto-plus<2.0.0,>=1.22.3 in /usr/local/lib/python3.11/dist-packages (from google-api-core<3.0.0dev,>=2.15.0->google-cloud-storage) (1.26.1)\n",
            "Requirement already satisfied: cachetools<6.0,>=2.0.0 in /usr/local/lib/python3.11/dist-packages (from google-auth<3.0dev,>=2.26.1->google-cloud-storage) (5.5.2)\n",
            "Requirement already satisfied: pyasn1-modules>=0.2.1 in /usr/local/lib/python3.11/dist-packages (from google-auth<3.0dev,>=2.26.1->google-cloud-storage) (0.4.2)\n",
            "Requirement already satisfied: rsa<5,>=3.1.4 in /usr/local/lib/python3.11/dist-packages (from google-auth<3.0dev,>=2.26.1->google-cloud-storage) (4.9.1)\n",
            "Requirement already satisfied: charset-normalizer<4,>=2 in /usr/local/lib/python3.11/dist-packages (from requests<3.0.0dev,>=2.18.0->google-cloud-storage) (3.4.1)\n",
            "Requirement already satisfied: idna<4,>=2.5 in /usr/local/lib/python3.11/dist-packages (from requests<3.0.0dev,>=2.18.0->google-cloud-storage) (3.10)\n",
            "Requirement already satisfied: certifi>=2017.4.17 in /usr/local/lib/python3.11/dist-packages (from requests<3.0.0dev,>=2.18.0->google-cloud-storage) (2025.1.31)\n",
            "Requirement already satisfied: pyasn1<0.7.0,>=0.6.1 in /usr/local/lib/python3.11/dist-packages (from pyasn1-modules>=0.2.1->google-auth<3.0dev,>=2.26.1->google-cloud-storage) (0.6.1)\n",
            "Downloading urllib3-2.4.0-py3-none-any.whl (128 kB)\n",
            "\u001b[2K   \u001b[90m━━━━━━━━━━━━━━━━━━━━━━━━━━━━━━━━━━━━━━━━\u001b[0m \u001b[32m128.7/128.7 kB\u001b[0m \u001b[31m4.6 MB/s\u001b[0m eta \u001b[36m0:00:00\u001b[0m\n",
            "\u001b[?25hDownloading google_cloud_storage-3.1.0-py2.py3-none-any.whl (174 kB)\n",
            "\u001b[2K   \u001b[90m━━━━━━━━━━━━━━━━━━━━━━━━━━━━━━━━━━━━━━━━\u001b[0m \u001b[32m174.9/174.9 kB\u001b[0m \u001b[31m10.0 MB/s\u001b[0m eta \u001b[36m0:00:00\u001b[0m\n",
            "\u001b[?25hInstalling collected packages: urllib3, google-cloud-storage\n",
            "  Attempting uninstall: urllib3\n",
            "    Found existing installation: urllib3 2.3.0\n",
            "    Uninstalling urllib3-2.3.0:\n",
            "      Successfully uninstalled urllib3-2.3.0\n",
            "  Attempting uninstall: google-cloud-storage\n",
            "    Found existing installation: google-cloud-storage 2.19.0\n",
            "    Uninstalling google-cloud-storage-2.19.0:\n",
            "      Successfully uninstalled google-cloud-storage-2.19.0\n",
            "\u001b[31mERROR: pip's dependency resolver does not currently take into account all the packages that are installed. This behaviour is the source of the following dependency conflicts.\n",
            "google-cloud-aiplatform 1.88.0 requires google-cloud-storage<3.0.0,>=1.32.0, but you have google-cloud-storage 3.1.0 which is incompatible.\u001b[0m\u001b[31m\n",
            "\u001b[0mSuccessfully installed google-cloud-storage-3.1.0 urllib3-2.4.0\n"
          ]
        },
        {
          "output_type": "display_data",
          "data": {
            "application/vnd.colab-display-data+json": {
              "pip_warning": {
                "packages": [
                  "google"
                ]
              },
              "id": "ab32d2957a2540b4bc7972b6d8968513"
            }
          },
          "metadata": {}
        }
      ]
    },
    {
      "cell_type": "code",
      "source": [
        "import torch.multiprocessing\n",
        "torch.multiprocessing.set_start_method('spawn', force=True)\n"
      ],
      "metadata": {
        "id": "r_Dhc3qBdiJn"
      },
      "execution_count": 12,
      "outputs": []
    },
    {
      "cell_type": "code",
      "source": [
        "import os\n",
        "os.chdir('/content/drive/MyDrive/LViT')\n"
      ],
      "metadata": {
        "id": "Rt9KFEIMdDY4"
      },
      "execution_count": 13,
      "outputs": []
    },
    {
      "cell_type": "code",
      "source": [
        "!pip install thop"
      ],
      "metadata": {
        "colab": {
          "base_uri": "https://localhost:8080/",
          "height": 1000
        },
        "id": "wc9p4I-yxrW8",
        "outputId": "217c6bfb-ae26-42ae-db1c-bafe1b23976f"
      },
      "execution_count": 15,
      "outputs": [
        {
          "output_type": "stream",
          "name": "stdout",
          "text": [
            "Collecting thop\n",
            "  Downloading thop-0.1.1.post2209072238-py3-none-any.whl.metadata (2.7 kB)\n",
            "Requirement already satisfied: torch in /usr/local/lib/python3.11/dist-packages (from thop) (2.6.0+cu124)\n",
            "Requirement already satisfied: filelock in /usr/local/lib/python3.11/dist-packages (from torch->thop) (3.18.0)\n",
            "Requirement already satisfied: typing-extensions>=4.10.0 in /usr/local/lib/python3.11/dist-packages (from torch->thop) (4.13.2)\n",
            "Requirement already satisfied: networkx in /usr/local/lib/python3.11/dist-packages (from torch->thop) (3.4.2)\n",
            "Requirement already satisfied: jinja2 in /usr/local/lib/python3.11/dist-packages (from torch->thop) (3.1.6)\n",
            "Requirement already satisfied: fsspec in /usr/local/lib/python3.11/dist-packages (from torch->thop) (2025.3.2)\n",
            "Collecting nvidia-cuda-nvrtc-cu12==12.4.127 (from torch->thop)\n",
            "  Downloading nvidia_cuda_nvrtc_cu12-12.4.127-py3-none-manylinux2014_x86_64.whl.metadata (1.5 kB)\n",
            "Collecting nvidia-cuda-runtime-cu12==12.4.127 (from torch->thop)\n",
            "  Downloading nvidia_cuda_runtime_cu12-12.4.127-py3-none-manylinux2014_x86_64.whl.metadata (1.5 kB)\n",
            "Collecting nvidia-cuda-cupti-cu12==12.4.127 (from torch->thop)\n",
            "  Downloading nvidia_cuda_cupti_cu12-12.4.127-py3-none-manylinux2014_x86_64.whl.metadata (1.6 kB)\n",
            "Collecting nvidia-cudnn-cu12==9.1.0.70 (from torch->thop)\n",
            "  Downloading nvidia_cudnn_cu12-9.1.0.70-py3-none-manylinux2014_x86_64.whl.metadata (1.6 kB)\n",
            "Collecting nvidia-cublas-cu12==12.4.5.8 (from torch->thop)\n",
            "  Downloading nvidia_cublas_cu12-12.4.5.8-py3-none-manylinux2014_x86_64.whl.metadata (1.5 kB)\n",
            "Collecting nvidia-cufft-cu12==11.2.1.3 (from torch->thop)\n",
            "  Downloading nvidia_cufft_cu12-11.2.1.3-py3-none-manylinux2014_x86_64.whl.metadata (1.5 kB)\n",
            "Collecting nvidia-curand-cu12==10.3.5.147 (from torch->thop)\n",
            "  Downloading nvidia_curand_cu12-10.3.5.147-py3-none-manylinux2014_x86_64.whl.metadata (1.5 kB)\n",
            "Collecting nvidia-cusolver-cu12==11.6.1.9 (from torch->thop)\n",
            "  Downloading nvidia_cusolver_cu12-11.6.1.9-py3-none-manylinux2014_x86_64.whl.metadata (1.6 kB)\n",
            "Collecting nvidia-cusparse-cu12==12.3.1.170 (from torch->thop)\n",
            "  Downloading nvidia_cusparse_cu12-12.3.1.170-py3-none-manylinux2014_x86_64.whl.metadata (1.6 kB)\n",
            "Requirement already satisfied: nvidia-cusparselt-cu12==0.6.2 in /usr/local/lib/python3.11/dist-packages (from torch->thop) (0.6.2)\n",
            "Requirement already satisfied: nvidia-nccl-cu12==2.21.5 in /usr/local/lib/python3.11/dist-packages (from torch->thop) (2.21.5)\n",
            "Requirement already satisfied: nvidia-nvtx-cu12==12.4.127 in /usr/local/lib/python3.11/dist-packages (from torch->thop) (12.4.127)\n",
            "Collecting nvidia-nvjitlink-cu12==12.4.127 (from torch->thop)\n",
            "  Downloading nvidia_nvjitlink_cu12-12.4.127-py3-none-manylinux2014_x86_64.whl.metadata (1.5 kB)\n",
            "Requirement already satisfied: triton==3.2.0 in /usr/local/lib/python3.11/dist-packages (from torch->thop) (3.2.0)\n",
            "Requirement already satisfied: sympy==1.13.1 in /usr/local/lib/python3.11/dist-packages (from torch->thop) (1.13.1)\n",
            "Requirement already satisfied: mpmath<1.4,>=1.1.0 in /usr/local/lib/python3.11/dist-packages (from sympy==1.13.1->torch->thop) (1.3.0)\n",
            "Requirement already satisfied: MarkupSafe>=2.0 in /usr/local/lib/python3.11/dist-packages (from jinja2->torch->thop) (3.0.2)\n",
            "Downloading thop-0.1.1.post2209072238-py3-none-any.whl (15 kB)\n",
            "Downloading nvidia_cublas_cu12-12.4.5.8-py3-none-manylinux2014_x86_64.whl (363.4 MB)\n",
            "\u001b[2K   \u001b[90m━━━━━━━━━━━━━━━━━━━━━━━━━━━━━━━━━━━━━━━━\u001b[0m \u001b[32m363.4/363.4 MB\u001b[0m \u001b[31m3.9 MB/s\u001b[0m eta \u001b[36m0:00:00\u001b[0m\n",
            "\u001b[?25hDownloading nvidia_cuda_cupti_cu12-12.4.127-py3-none-manylinux2014_x86_64.whl (13.8 MB)\n",
            "\u001b[2K   \u001b[90m━━━━━━━━━━━━━━━━━━━━━━━━━━━━━━━━━━━━━━━━\u001b[0m \u001b[32m13.8/13.8 MB\u001b[0m \u001b[31m90.6 MB/s\u001b[0m eta \u001b[36m0:00:00\u001b[0m\n",
            "\u001b[?25hDownloading nvidia_cuda_nvrtc_cu12-12.4.127-py3-none-manylinux2014_x86_64.whl (24.6 MB)\n",
            "\u001b[2K   \u001b[90m━━━━━━━━━━━━━━━━━━━━━━━━━━━━━━━━━━━━━━━━\u001b[0m \u001b[32m24.6/24.6 MB\u001b[0m \u001b[31m71.6 MB/s\u001b[0m eta \u001b[36m0:00:00\u001b[0m\n",
            "\u001b[?25hDownloading nvidia_cuda_runtime_cu12-12.4.127-py3-none-manylinux2014_x86_64.whl (883 kB)\n",
            "\u001b[2K   \u001b[90m━━━━━━━━━━━━━━━━━━━━━━━━━━━━━━━━━━━━━━━━\u001b[0m \u001b[32m883.7/883.7 kB\u001b[0m \u001b[31m50.8 MB/s\u001b[0m eta \u001b[36m0:00:00\u001b[0m\n",
            "\u001b[?25hDownloading nvidia_cudnn_cu12-9.1.0.70-py3-none-manylinux2014_x86_64.whl (664.8 MB)\n",
            "\u001b[2K   \u001b[90m━━━━━━━━━━━━━━━━━━━━━━━━━━━━━━━━━━━━━━━━\u001b[0m \u001b[32m664.8/664.8 MB\u001b[0m \u001b[31m2.7 MB/s\u001b[0m eta \u001b[36m0:00:00\u001b[0m\n",
            "\u001b[?25hDownloading nvidia_cufft_cu12-11.2.1.3-py3-none-manylinux2014_x86_64.whl (211.5 MB)\n",
            "\u001b[2K   \u001b[90m━━━━━━━━━━━━━━━━━━━━━━━━━━━━━━━━━━━━━━━━\u001b[0m \u001b[32m211.5/211.5 MB\u001b[0m \u001b[31m6.1 MB/s\u001b[0m eta \u001b[36m0:00:00\u001b[0m\n",
            "\u001b[?25hDownloading nvidia_curand_cu12-10.3.5.147-py3-none-manylinux2014_x86_64.whl (56.3 MB)\n",
            "\u001b[2K   \u001b[90m━━━━━━━━━━━━━━━━━━━━━━━━━━━━━━━━━━━━━━━━\u001b[0m \u001b[32m56.3/56.3 MB\u001b[0m \u001b[31m20.5 MB/s\u001b[0m eta \u001b[36m0:00:00\u001b[0m\n",
            "\u001b[?25hDownloading nvidia_cusolver_cu12-11.6.1.9-py3-none-manylinux2014_x86_64.whl (127.9 MB)\n",
            "\u001b[2K   \u001b[90m━━━━━━━━━━━━━━━━━━━━━━━━━━━━━━━━━━━━━━━━\u001b[0m \u001b[32m127.9/127.9 MB\u001b[0m \u001b[31m7.4 MB/s\u001b[0m eta \u001b[36m0:00:00\u001b[0m\n",
            "\u001b[?25hDownloading nvidia_cusparse_cu12-12.3.1.170-py3-none-manylinux2014_x86_64.whl (207.5 MB)\n",
            "\u001b[2K   \u001b[90m━━━━━━━━━━━━━━━━━━━━━━━━━━━━━━━━━━━━━━━━\u001b[0m \u001b[32m207.5/207.5 MB\u001b[0m \u001b[31m5.6 MB/s\u001b[0m eta \u001b[36m0:00:00\u001b[0m\n",
            "\u001b[?25hDownloading nvidia_nvjitlink_cu12-12.4.127-py3-none-manylinux2014_x86_64.whl (21.1 MB)\n",
            "\u001b[2K   \u001b[90m━━━━━━━━━━━━━━━━━━━━━━━━━━━━━━━━━━━━━━━━\u001b[0m \u001b[32m21.1/21.1 MB\u001b[0m \u001b[31m109.1 MB/s\u001b[0m eta \u001b[36m0:00:00\u001b[0m\n",
            "\u001b[?25hInstalling collected packages: nvidia-nvjitlink-cu12, nvidia-curand-cu12, nvidia-cufft-cu12, nvidia-cuda-runtime-cu12, nvidia-cuda-nvrtc-cu12, nvidia-cuda-cupti-cu12, nvidia-cublas-cu12, nvidia-cusparse-cu12, nvidia-cudnn-cu12, nvidia-cusolver-cu12, thop\n",
            "  Attempting uninstall: nvidia-nvjitlink-cu12\n",
            "    Found existing installation: nvidia-nvjitlink-cu12 12.5.82\n",
            "    Uninstalling nvidia-nvjitlink-cu12-12.5.82:\n",
            "      Successfully uninstalled nvidia-nvjitlink-cu12-12.5.82\n",
            "  Attempting uninstall: nvidia-curand-cu12\n",
            "    Found existing installation: nvidia-curand-cu12 10.3.6.82\n",
            "    Uninstalling nvidia-curand-cu12-10.3.6.82:\n",
            "      Successfully uninstalled nvidia-curand-cu12-10.3.6.82\n",
            "  Attempting uninstall: nvidia-cufft-cu12\n",
            "    Found existing installation: nvidia-cufft-cu12 11.2.3.61\n",
            "    Uninstalling nvidia-cufft-cu12-11.2.3.61:\n",
            "      Successfully uninstalled nvidia-cufft-cu12-11.2.3.61\n",
            "  Attempting uninstall: nvidia-cuda-runtime-cu12\n",
            "    Found existing installation: nvidia-cuda-runtime-cu12 12.5.82\n",
            "    Uninstalling nvidia-cuda-runtime-cu12-12.5.82:\n",
            "      Successfully uninstalled nvidia-cuda-runtime-cu12-12.5.82\n",
            "  Attempting uninstall: nvidia-cuda-nvrtc-cu12\n",
            "    Found existing installation: nvidia-cuda-nvrtc-cu12 12.5.82\n",
            "    Uninstalling nvidia-cuda-nvrtc-cu12-12.5.82:\n",
            "      Successfully uninstalled nvidia-cuda-nvrtc-cu12-12.5.82\n",
            "  Attempting uninstall: nvidia-cuda-cupti-cu12\n",
            "    Found existing installation: nvidia-cuda-cupti-cu12 12.5.82\n",
            "    Uninstalling nvidia-cuda-cupti-cu12-12.5.82:\n",
            "      Successfully uninstalled nvidia-cuda-cupti-cu12-12.5.82\n",
            "  Attempting uninstall: nvidia-cublas-cu12\n",
            "    Found existing installation: nvidia-cublas-cu12 12.5.3.2\n",
            "    Uninstalling nvidia-cublas-cu12-12.5.3.2:\n",
            "      Successfully uninstalled nvidia-cublas-cu12-12.5.3.2\n",
            "  Attempting uninstall: nvidia-cusparse-cu12\n",
            "    Found existing installation: nvidia-cusparse-cu12 12.5.1.3\n",
            "    Uninstalling nvidia-cusparse-cu12-12.5.1.3:\n",
            "      Successfully uninstalled nvidia-cusparse-cu12-12.5.1.3\n",
            "  Attempting uninstall: nvidia-cudnn-cu12\n",
            "    Found existing installation: nvidia-cudnn-cu12 9.3.0.75\n",
            "    Uninstalling nvidia-cudnn-cu12-9.3.0.75:\n",
            "      Successfully uninstalled nvidia-cudnn-cu12-9.3.0.75\n",
            "  Attempting uninstall: nvidia-cusolver-cu12\n",
            "    Found existing installation: nvidia-cusolver-cu12 11.6.3.83\n",
            "    Uninstalling nvidia-cusolver-cu12-11.6.3.83:\n",
            "      Successfully uninstalled nvidia-cusolver-cu12-11.6.3.83\n",
            "Successfully installed nvidia-cublas-cu12-12.4.5.8 nvidia-cuda-cupti-cu12-12.4.127 nvidia-cuda-nvrtc-cu12-12.4.127 nvidia-cuda-runtime-cu12-12.4.127 nvidia-cudnn-cu12-9.1.0.70 nvidia-cufft-cu12-11.2.1.3 nvidia-curand-cu12-10.3.5.147 nvidia-cusolver-cu12-11.6.1.9 nvidia-cusparse-cu12-12.3.1.170 nvidia-nvjitlink-cu12-12.4.127 thop-0.1.1.post2209072238\n"
          ]
        },
        {
          "output_type": "display_data",
          "data": {
            "application/vnd.colab-display-data+json": {
              "pip_warning": {
                "packages": [
                  "nvidia"
                ]
              },
              "id": "8029f886800e49e6a03805c092e812c7"
            }
          },
          "metadata": {}
        }
      ]
    },
    {
      "cell_type": "code",
      "source": [
        "import torch.optim\n",
        "import torch.nn as nn\n",
        "import time\n",
        "from tensorboardX import SummaryWriter\n",
        "import os\n",
        "import numpy as np\n",
        "import random\n",
        "from torch.backends import cudnn\n",
        "import logging\n",
        "from torch.utils.data import DataLoader\n",
        "from torchvision import transforms\n",
        "from nets.LViT import LViT\n",
        "from Load_Dataset import RandomGenerator, ValGenerator, ImageToImage2D, LV2D\n",
        "import Config\n",
        "from Train_one_epoch import train_one_epoch, print_summary\n",
        "from utils import CosineAnnealingWarmRestarts, WeightedDiceBCE, WeightedDiceCE, read_text, read_text_LV, save_on_batch\n",
        "from thop import profile\n",
        "\n",
        "# Set device for GPU usage if available\n",
        "device = torch.device(\"cuda\" if torch.cuda.is_available() else \"cpu\")\n",
        "\n",
        "def logger_config(log_path):\n",
        "    loggerr = logging.getLogger()\n",
        "    loggerr.setLevel(level=logging.INFO)\n",
        "    handler = logging.FileHandler(log_path, encoding='UTF-8')\n",
        "    handler.setLevel(logging.INFO)\n",
        "    formatter = logging.Formatter('%(message)s')\n",
        "    handler.setFormatter(formatter)\n",
        "    console = logging.StreamHandler()\n",
        "    console.setLevel(logging.INFO)\n",
        "    loggerr.addHandler(handler)\n",
        "    loggerr.addHandler(console)\n",
        "    return loggerr\n",
        "\n",
        "def save_checkpoint(state, save_path):\n",
        "    '''\n",
        "        Save the current model.\n",
        "        If the model is the best model since the beginning of the training\n",
        "        it will be copied.\n",
        "    '''\n",
        "    logger.info('\\t Saving to {}'.format(save_path))\n",
        "    if not os.path.isdir(save_path):\n",
        "        os.makedirs(save_path)\n",
        "\n",
        "    epoch = state['epoch']  # epoch number\n",
        "    best_model = state['best_model']  # bool\n",
        "    model = state['model']  # model type\n",
        "\n",
        "    if best_model:\n",
        "        filename = save_path + '/' + \\\n",
        "                   'best_model-{}.pth.tar'.format(model)\n",
        "    else:\n",
        "        filename = save_path + '/' + \\\n",
        "                   'model-{}-{:02d}.pth.tar'.format(model, epoch)\n",
        "    torch.save(state, filename)\n",
        "\n",
        "def worker_init_fn(worker_id):\n",
        "    random.seed(Config.seed + worker_id)\n",
        "\n",
        "##################################################################################\n",
        "# =================================================================================\n",
        "#          Main Loop: load model,\n",
        "# =================================================================================\n",
        "##################################################################################\n",
        "def main_loop(batch_size=Config.batch_size, model_type='', tensorboard=True):\n",
        "    # Load train and val data\n",
        "    train_tf = transforms.Compose([RandomGenerator(output_size=[Config.img_size, Config.img_size])])\n",
        "    val_tf = ValGenerator(output_size=[Config.img_size, Config.img_size])\n",
        "\n",
        "    if Config.task_name == 'MoNuSeg':\n",
        "        train_text = read_text(Config.train_dataset + 'Train_text.xlsx')\n",
        "        val_text = read_text(Config.val_dataset + 'Val_text.xlsx')\n",
        "        train_dataset = ImageToImage2D(Config.train_dataset, Config.task_name, train_text, train_tf,\n",
        "                                       image_size=Config.img_size)\n",
        "        val_dataset = ImageToImage2D(Config.val_dataset, Config.task_name, val_text, val_tf, image_size=Config.img_size)\n",
        "    elif Config.task_name == 'Covid19':\n",
        "        text = read_text(Config.task_dataset + 'Train_Val_text.xlsx')\n",
        "        train_dataset = ImageToImage2D(Config.train_dataset, Config.task_name, text, train_tf,\n",
        "                                       image_size=Config.img_size)\n",
        "        val_dataset = ImageToImage2D(Config.val_dataset, Config.task_name, text, val_tf, image_size=Config.img_size)\n",
        "\n",
        "    train_loader = DataLoader(train_dataset,\n",
        "                              batch_size=Config.batch_size,\n",
        "                              shuffle=True,\n",
        "                              worker_init_fn=worker_init_fn,\n",
        "                              num_workers=0,\n",
        "                              pin_memory=True)\n",
        "\n",
        "    val_loader = DataLoader(val_dataset,\n",
        "                            batch_size=Config.batch_size,\n",
        "                            shuffle=True,\n",
        "                            worker_init_fn=worker_init_fn,\n",
        "                            num_workers=0,\n",
        "                            pin_memory=True)\n",
        "\n",
        "    lr = Config.learning_rate\n",
        "    logger.info(model_type)\n",
        "\n",
        "    if model_type == 'LViT':\n",
        "        config_vit = Config.get_CTranS_config()\n",
        "        logger.info('transformer head num: {}'.format(config_vit.transformer.num_heads))\n",
        "        logger.info('transformer layers num: {}'.format(config_vit.transformer.num_layers))\n",
        "        logger.info('transformer expand ratio: {}'.format(config_vit.expand_ratio))\n",
        "        model = LViT(config_vit, n_channels=Config.n_channels, n_classes=Config.n_labels)\n",
        "\n",
        "    elif model_type == 'LViT_pretrain':\n",
        "        config_vit = Config.get_CTranS_config()\n",
        "        logger.info('transformer head num: {}'.format(config_vit.transformer.num_heads))\n",
        "        logger.info('transformer layers num: {}'.format(config_vit.transformer.num_layers))\n",
        "        logger.info('transformer expand ratio: {}'.format(config_vit.expand_ratio))\n",
        "        model = LViT(config_vit, n_channels=Config.n_channels, n_classes=Config.n_labels)\n",
        "        pretrained_UNet_model_path = \"MoNuSeg/LViT/Test_session_05.23_10h55/models/best_model-LViT.pth.tar\"\n",
        "        pretrained_UNet = torch.load(pretrained_UNet_model_path, map_location='cuda')\n",
        "        pretrained_UNet = pretrained_UNet['state_dict']\n",
        "        model2_dict = model.state_dict()\n",
        "        state_dict = {k: v for k, v in pretrained_UNet.items() if k in model2_dict.keys()}\n",
        "        print(state_dict.keys())\n",
        "        model2_dict.update(state_dict)\n",
        "        model.load_state_dict(model2_dict)\n",
        "        logger.info('Load successful!')\n",
        "\n",
        "    else:\n",
        "        raise TypeError('Please enter a valid name for the model type')\n",
        "\n",
        "    input = torch.randn(2, 3, 224, 224)\n",
        "    text = torch.randn(2, 10, 768)\n",
        "    flops, params = profile(model, inputs=(input, text,))\n",
        "    print('flops:{}'.format(flops))\n",
        "    print('params:{}'.format(params))\n",
        "    model = model.to(device)\n",
        "\n",
        "    if torch.cuda.device_count() > 1:\n",
        "        print(\"Let's use {0} GPUs!\".format(torch.cuda.device_count()))\n",
        "        model = nn.DataParallel(model)\n",
        "\n",
        "    criterion = WeightedDiceBCE(dice_weight=0.5, BCE_weight=0.5)\n",
        "    optimizer = torch.optim.Adam(filter(lambda p: p.requires_grad, model.parameters()), lr=lr)\n",
        "\n",
        "    if Config.cosineLR:\n",
        "        lr_scheduler = CosineAnnealingWarmRestarts(optimizer, T_0=10, T_mult=1, eta_min=1e-4)\n",
        "    else:\n",
        "        lr_scheduler = None\n",
        "\n",
        "    if tensorboard:\n",
        "        log_dir = Config.tensorboard_folder\n",
        "        logger.info('log dir: {}'.format(log_dir))\n",
        "        if not os.path.isdir(log_dir):\n",
        "            os.makedirs(log_dir)\n",
        "        writer = SummaryWriter(log_dir)\n",
        "    else:\n",
        "        writer = None\n",
        "\n",
        "    max_dice = 0.0\n",
        "    best_epoch = 1\n",
        "    for epoch in range(5):\n",
        "        logger.info('\\n========= Epoch [{}/{}] ========='.format(epoch + 1, Config.epochs + 1))\n",
        "        logger.info(Config.session_name)\n",
        "        model.train(True)\n",
        "        logger.info('Training with batch size : {}'.format(batch_size))\n",
        "        train_one_epoch(train_loader, model, criterion, optimizer, writer, epoch, None, model_type, logger)\n",
        "\n",
        "        logger.info('Validation')\n",
        "        with torch.no_grad():\n",
        "            model.eval()\n",
        "            val_loss, val_dice = train_one_epoch(val_loader, model, criterion,\n",
        "                                                 optimizer, writer, epoch, lr_scheduler, model_type, logger)\n",
        "\n",
        "        if val_dice > max_dice:\n",
        "            if epoch + 1 > 5:\n",
        "                logger.info('\\t Saving best model, mean dice increased from: {:.4f} to {:.4f}'.format(max_dice, val_dice))\n",
        "                max_dice = val_dice\n",
        "                best_epoch = epoch + 1\n",
        "                save_checkpoint({'epoch': epoch,\n",
        "                                 'best_model': True,\n",
        "                                 'model': model_type,\n",
        "                                 'state_dict': model.state_dict(),\n",
        "                                 'val_loss': val_loss,\n",
        "                                 'optimizer': optimizer.state_dict()}, Config.model_path)\n",
        "\n",
        "        else:\n",
        "            logger.info('\\t Mean dice:{:.4f} does not increase, '\n",
        "                        'the best is still: {:.4f} in epoch {}'.format(val_dice, max_dice, best_epoch))\n",
        "\n",
        "        early_stopping_count = epoch - best_epoch + 1\n",
        "        logger.info('\\t early_stopping_count: {}/{}'.format(early_stopping_count, Config.early_stopping_patience))\n",
        "\n",
        "        if early_stopping_count > Config.early_stopping_patience:\n",
        "            logger.info('\\t early_stopping!')\n",
        "            break\n",
        "\n",
        "    return model\n",
        "\n",
        "\n",
        "if __name__ == '__main__':\n",
        "    # Set deterministic behavior for reproducibility\n",
        "    deterministic = True\n",
        "    if not deterministic:\n",
        "        cudnn.benchmark = True\n",
        "        cudnn.deterministic = False\n",
        "    else:\n",
        "        cudnn.benchmark = False\n",
        "        cudnn.deterministic = True\n",
        "\n",
        "    random.seed(Config.seed)\n",
        "    np.random.seed(Config.seed)\n",
        "    torch.manual_seed(Config.seed)\n",
        "    torch.cuda.manual_seed(Config.seed)\n",
        "    torch.cuda.manual_seed_all(Config.seed)\n",
        "\n",
        "    if not os.path.isdir(Config.save_path):\n",
        "        os.makedirs(Config.save_path)\n",
        "\n",
        "    logger = logger_config(log_path=Config.logger_path)\n",
        "    model = main_loop(model_type=Config.model_name, tensorboard=True)\n"
      ],
      "metadata": {
        "colab": {
          "base_uri": "https://localhost:8080/"
        },
        "id": "bCGlPTAobMKb",
        "outputId": "5eaeb5b0-e073-4baf-bdc1-4d5de86a3b94"
      },
      "execution_count": 8,
      "outputs": [
        {
          "output_type": "stream",
          "name": "stderr",
          "text": [
            "/usr/local/lib/python3.11/dist-packages/timm/models/layers/__init__.py:48: FutureWarning: Importing from timm.models.layers is deprecated, please import via timm.layers\n",
            "  warnings.warn(f\"Importing from {__name__} is deprecated, please import via timm.layers\", FutureWarning)\n",
            "/usr/local/lib/python3.11/dist-packages/huggingface_hub/utils/_auth.py:94: UserWarning: \n",
            "The secret `HF_TOKEN` does not exist in your Colab secrets.\n",
            "To authenticate with the Hugging Face Hub, create a token in your settings tab (https://huggingface.co/settings/tokens), set it as secret in your Google Colab and restart your session.\n",
            "You will be able to reuse this secret in all of your notebooks.\n",
            "Please note that authentication is recommended but still optional to access public models or datasets.\n",
            "  warnings.warn(\n",
            "INFO:root:LViT\n",
            "LViT\n",
            "INFO:root:transformer head num: 4\n",
            "transformer head num: 4\n",
            "INFO:root:transformer layers num: 4\n",
            "transformer layers num: 4\n",
            "INFO:root:transformer expand ratio: 4\n",
            "transformer expand ratio: 4\n"
          ]
        },
        {
          "output_type": "stream",
          "name": "stdout",
          "text": [
            "[INFO] Register count_convNd() for <class 'torch.nn.modules.conv.Conv2d'>.\n",
            "[INFO] Register count_normalization() for <class 'torch.nn.modules.batchnorm.BatchNorm2d'>.\n",
            "[INFO] Register zero_ops() for <class 'torch.nn.modules.activation.ReLU'>.\n",
            "[INFO] Register zero_ops() for <class 'torch.nn.modules.dropout.Dropout'>.\n",
            "[INFO] Register count_normalization() for <class 'torch.nn.modules.normalization.LayerNorm'>.\n",
            "[INFO] Register count_linear() for <class 'torch.nn.modules.linear.Linear'>.\n",
            "[INFO] Register zero_ops() for <class 'torch.nn.modules.container.Sequential'>.\n",
            "[INFO] Register count_convNd() for <class 'torch.nn.modules.conv.Conv1d'>.\n",
            "[INFO] Register count_normalization() for <class 'torch.nn.modules.batchnorm.BatchNorm1d'>.\n",
            "[INFO] Register zero_ops() for <class 'torch.nn.modules.pooling.MaxPool2d'>.\n",
            "[INFO] Register count_upsample() for <class 'torch.nn.modules.upsampling.Upsample'>.\n",
            "[INFO] Register count_softmax() for <class 'torch.nn.modules.activation.Softmax'>.\n"
          ]
        },
        {
          "output_type": "stream",
          "name": "stderr",
          "text": [
            "INFO:root:log dir: MoNuSeg/LViT/Test_session_04.23_17h54/tensorboard_logs/\n",
            "log dir: MoNuSeg/LViT/Test_session_04.23_17h54/tensorboard_logs/\n",
            "INFO:root:\n",
            "========= Epoch [1/2001] =========\n",
            "\n",
            "========= Epoch [1/2001] =========\n",
            "INFO:root:Test_session_04.23_17h54\n",
            "Test_session_04.23_17h54\n",
            "INFO:root:Training with batch size : 2\n",
            "Training with batch size : 2\n"
          ]
        },
        {
          "output_type": "stream",
          "name": "stdout",
          "text": [
            "flops:54155993856.0\n",
            "params:29719873.0\n"
          ]
        },
        {
          "output_type": "stream",
          "name": "stderr",
          "text": [
            "INFO:root:   [Train] Epoch: [1][1/12]  Loss:0.652 (Avg 0.6518) IoU:0.083 (Avg 0.0826) Dice:0.1525 (Avg 0.1525) LR 1.00e-03   (AvgTime 6.2)   \n",
            "   [Train] Epoch: [1][1/12]  Loss:0.652 (Avg 0.6518) IoU:0.083 (Avg 0.0826) Dice:0.1525 (Avg 0.1525) LR 1.00e-03   (AvgTime 6.2)   \n",
            "INFO:root:   [Train] Epoch: [1][2/12]  Loss:0.581 (Avg 0.6164) IoU:0.216 (Avg 0.1494) Dice:0.3553 (Avg 0.2539) LR 1.00e-03   (AvgTime 4.7)   \n",
            "   [Train] Epoch: [1][2/12]  Loss:0.581 (Avg 0.6164) IoU:0.216 (Avg 0.1494) Dice:0.3553 (Avg 0.2539) LR 1.00e-03   (AvgTime 4.7)   \n",
            "INFO:root:   [Train] Epoch: [1][3/12]  Loss:0.474 (Avg 0.5688) IoU:0.471 (Avg 0.2566) Dice:0.6404 (Avg 0.3828) LR 1.00e-03   (AvgTime 4.5)   \n",
            "   [Train] Epoch: [1][3/12]  Loss:0.474 (Avg 0.5688) IoU:0.471 (Avg 0.2566) Dice:0.6404 (Avg 0.3828) LR 1.00e-03   (AvgTime 4.5)   \n",
            "INFO:root:   [Train] Epoch: [1][4/12]  Loss:0.432 (Avg 0.5347) IoU:0.447 (Avg 0.3041) Dice:0.6149 (Avg 0.4408) LR 1.00e-03   (AvgTime 4.1)   \n",
            "   [Train] Epoch: [1][4/12]  Loss:0.432 (Avg 0.5347) IoU:0.447 (Avg 0.3041) Dice:0.6149 (Avg 0.4408) LR 1.00e-03   (AvgTime 4.1)   \n",
            "INFO:root:   [Train] Epoch: [1][5/12]  Loss:0.459 (Avg 0.5196) IoU:0.433 (Avg 0.3299) Dice:0.6037 (Avg 0.4734) LR 1.00e-03   (AvgTime 4.0)   \n",
            "   [Train] Epoch: [1][5/12]  Loss:0.459 (Avg 0.5196) IoU:0.433 (Avg 0.3299) Dice:0.6037 (Avg 0.4734) LR 1.00e-03   (AvgTime 4.0)   \n",
            "INFO:root:   [Train] Epoch: [1][6/12]  Loss:0.538 (Avg 0.5227) IoU:0.298 (Avg 0.3245) Dice:0.4571 (Avg 0.4707) LR 1.00e-03   (AvgTime 4.0)   \n",
            "   [Train] Epoch: [1][6/12]  Loss:0.538 (Avg 0.5227) IoU:0.298 (Avg 0.3245) Dice:0.4571 (Avg 0.4707) LR 1.00e-03   (AvgTime 4.0)   \n",
            "INFO:root:   [Train] Epoch: [1][7/12]  Loss:0.343 (Avg 0.4971) IoU:0.579 (Avg 0.3608) Dice:0.7330 (Avg 0.5081) LR 1.00e-03   (AvgTime 4.0)   \n",
            "   [Train] Epoch: [1][7/12]  Loss:0.343 (Avg 0.4971) IoU:0.579 (Avg 0.3608) Dice:0.7330 (Avg 0.5081) LR 1.00e-03   (AvgTime 4.0)   \n",
            "INFO:root:   [Train] Epoch: [1][8/12]  Loss:0.333 (Avg 0.4766) IoU:0.583 (Avg 0.3885) Dice:0.7361 (Avg 0.5366) LR 1.00e-03   (AvgTime 3.9)   \n",
            "   [Train] Epoch: [1][8/12]  Loss:0.333 (Avg 0.4766) IoU:0.583 (Avg 0.3885) Dice:0.7361 (Avg 0.5366) LR 1.00e-03   (AvgTime 3.9)   \n",
            "INFO:root:   [Train] Epoch: [1][9/12]  Loss:0.397 (Avg 0.4677) IoU:0.498 (Avg 0.4007) Dice:0.6628 (Avg 0.5507) LR 1.00e-03   (AvgTime 4.3)   \n",
            "   [Train] Epoch: [1][9/12]  Loss:0.397 (Avg 0.4677) IoU:0.498 (Avg 0.4007) Dice:0.6628 (Avg 0.5507) LR 1.00e-03   (AvgTime 4.3)   \n",
            "INFO:root:   [Train] Epoch: [1][10/12]  Loss:0.379 (Avg 0.4588) IoU:0.525 (Avg 0.4131) Dice:0.6881 (Avg 0.5644) LR 1.00e-03   (AvgTime 4.2)   \n",
            "   [Train] Epoch: [1][10/12]  Loss:0.379 (Avg 0.4588) IoU:0.525 (Avg 0.4131) Dice:0.6881 (Avg 0.5644) LR 1.00e-03   (AvgTime 4.2)   \n",
            "INFO:root:   [Train] Epoch: [1][11/12]  Loss:0.433 (Avg 0.4565) IoU:0.390 (Avg 0.4110) Dice:0.5577 (Avg 0.5638) LR 1.00e-03   (AvgTime 4.4)   \n",
            "   [Train] Epoch: [1][11/12]  Loss:0.433 (Avg 0.4565) IoU:0.390 (Avg 0.4110) Dice:0.5577 (Avg 0.5638) LR 1.00e-03   (AvgTime 4.4)   \n",
            "INFO:root:   [Train] Epoch: [1][12/12]  Loss:0.381 (Avg 0.4502) IoU:0.471 (Avg 0.4160) Dice:0.6190 (Avg 0.5684) LR 1.00e-03   (AvgTime 4.3)   \n",
            "   [Train] Epoch: [1][12/12]  Loss:0.381 (Avg 0.4502) IoU:0.471 (Avg 0.4160) Dice:0.6190 (Avg 0.5684) LR 1.00e-03   (AvgTime 4.3)   \n",
            "INFO:root:Validation\n",
            "Validation\n",
            "INFO:root:   [Val] Epoch: [1][1/3]  Loss:0.574 (Avg 0.5742) IoU:0.425 (Avg 0.4252) Dice:0.5888 (Avg 0.5888) (AvgTime 3.7)   \n",
            "   [Val] Epoch: [1][1/3]  Loss:0.574 (Avg 0.5742) IoU:0.425 (Avg 0.4252) Dice:0.5888 (Avg 0.5888) (AvgTime 3.7)   \n",
            "INFO:root:   [Val] Epoch: [1][2/3]  Loss:0.571 (Avg 0.5724) IoU:0.381 (Avg 0.4029) Dice:0.5439 (Avg 0.5664) (AvgTime 3.5)   \n",
            "   [Val] Epoch: [1][2/3]  Loss:0.571 (Avg 0.5724) IoU:0.381 (Avg 0.4029) Dice:0.5439 (Avg 0.5664) (AvgTime 3.5)   \n",
            "INFO:root:   [Val] Epoch: [1][3/3]  Loss:0.549 (Avg 0.5645) IoU:0.331 (Avg 0.3790) Dice:0.4915 (Avg 0.5414) (AvgTime 3.6)   \n",
            "   [Val] Epoch: [1][3/3]  Loss:0.549 (Avg 0.5645) IoU:0.331 (Avg 0.3790) Dice:0.4915 (Avg 0.5414) (AvgTime 3.6)   \n",
            "INFO:root:\t early_stopping_count: 0/50\n",
            "\t early_stopping_count: 0/50\n",
            "INFO:root:\n",
            "========= Epoch [2/2001] =========\n",
            "\n",
            "========= Epoch [2/2001] =========\n",
            "INFO:root:Test_session_04.23_17h54\n",
            "Test_session_04.23_17h54\n",
            "INFO:root:Training with batch size : 2\n",
            "Training with batch size : 2\n",
            "INFO:root:   [Train] Epoch: [2][1/12]  Loss:0.422 (Avg 0.4220) IoU:0.393 (Avg 0.3927) Dice:0.5610 (Avg 0.5610) LR 9.78e-04   (AvgTime 0.4)   \n",
            "   [Train] Epoch: [2][1/12]  Loss:0.422 (Avg 0.4220) IoU:0.393 (Avg 0.3927) Dice:0.5610 (Avg 0.5610) LR 9.78e-04   (AvgTime 0.4)   \n",
            "INFO:root:   [Train] Epoch: [2][2/12]  Loss:0.275 (Avg 0.3486) IoU:0.671 (Avg 0.5320) Dice:0.8029 (Avg 0.6819) LR 9.78e-04   (AvgTime 0.4)   \n",
            "   [Train] Epoch: [2][2/12]  Loss:0.275 (Avg 0.3486) IoU:0.671 (Avg 0.5320) Dice:0.8029 (Avg 0.6819) LR 9.78e-04   (AvgTime 0.4)   \n",
            "INFO:root:   [Train] Epoch: [2][3/12]  Loss:0.324 (Avg 0.3405) IoU:0.543 (Avg 0.5356) Dice:0.7010 (Avg 0.6883) LR 9.78e-04   (AvgTime 0.3)   \n",
            "   [Train] Epoch: [2][3/12]  Loss:0.324 (Avg 0.3405) IoU:0.543 (Avg 0.5356) Dice:0.7010 (Avg 0.6883) LR 9.78e-04   (AvgTime 0.3)   \n",
            "INFO:root:   [Train] Epoch: [2][4/12]  Loss:0.329 (Avg 0.3376) IoU:0.591 (Avg 0.5494) Dice:0.7415 (Avg 0.7016) LR 9.78e-04   (AvgTime 0.3)   \n",
            "   [Train] Epoch: [2][4/12]  Loss:0.329 (Avg 0.3376) IoU:0.591 (Avg 0.5494) Dice:0.7415 (Avg 0.7016) LR 9.78e-04   (AvgTime 0.3)   \n",
            "INFO:root:   [Train] Epoch: [2][5/12]  Loss:0.441 (Avg 0.3582) IoU:0.428 (Avg 0.5251) Dice:0.5862 (Avg 0.6785) LR 9.78e-04   (AvgTime 0.3)   \n",
            "   [Train] Epoch: [2][5/12]  Loss:0.441 (Avg 0.3582) IoU:0.428 (Avg 0.5251) Dice:0.5862 (Avg 0.6785) LR 9.78e-04   (AvgTime 0.3)   \n",
            "INFO:root:   [Train] Epoch: [2][6/12]  Loss:0.372 (Avg 0.3605) IoU:0.476 (Avg 0.5169) Dice:0.6321 (Avg 0.6708) LR 9.78e-04   (AvgTime 0.3)   \n",
            "   [Train] Epoch: [2][6/12]  Loss:0.372 (Avg 0.3605) IoU:0.476 (Avg 0.5169) Dice:0.6321 (Avg 0.6708) LR 9.78e-04   (AvgTime 0.3)   \n",
            "INFO:root:   [Train] Epoch: [2][7/12]  Loss:0.369 (Avg 0.3617) IoU:0.458 (Avg 0.5085) Dice:0.6228 (Avg 0.6639) LR 9.78e-04   (AvgTime 0.3)   \n",
            "   [Train] Epoch: [2][7/12]  Loss:0.369 (Avg 0.3617) IoU:0.458 (Avg 0.5085) Dice:0.6228 (Avg 0.6639) LR 9.78e-04   (AvgTime 0.3)   \n",
            "INFO:root:   [Train] Epoch: [2][8/12]  Loss:0.446 (Avg 0.3722) IoU:0.431 (Avg 0.4988) Dice:0.6016 (Avg 0.6561) LR 9.78e-04   (AvgTime 0.3)   \n",
            "   [Train] Epoch: [2][8/12]  Loss:0.446 (Avg 0.3722) IoU:0.431 (Avg 0.4988) Dice:0.6016 (Avg 0.6561) LR 9.78e-04   (AvgTime 0.3)   \n",
            "INFO:root:   [Train] Epoch: [2][9/12]  Loss:0.293 (Avg 0.3634) IoU:0.628 (Avg 0.5131) Dice:0.7715 (Avg 0.6690) LR 9.78e-04   (AvgTime 0.3)   \n",
            "   [Train] Epoch: [2][9/12]  Loss:0.293 (Avg 0.3634) IoU:0.628 (Avg 0.5131) Dice:0.7715 (Avg 0.6690) LR 9.78e-04   (AvgTime 0.3)   \n",
            "INFO:root:   [Train] Epoch: [2][10/12]  Loss:0.383 (Avg 0.3654) IoU:0.402 (Avg 0.5020) Dice:0.5635 (Avg 0.6584) LR 9.78e-04   (AvgTime 0.3)   \n",
            "   [Train] Epoch: [2][10/12]  Loss:0.383 (Avg 0.3654) IoU:0.402 (Avg 0.5020) Dice:0.5635 (Avg 0.6584) LR 9.78e-04   (AvgTime 0.3)   \n",
            "INFO:root:   [Train] Epoch: [2][11/12]  Loss:0.434 (Avg 0.3716) IoU:0.452 (Avg 0.4975) Dice:0.6207 (Avg 0.6550) LR 9.78e-04   (AvgTime 0.3)   \n",
            "   [Train] Epoch: [2][11/12]  Loss:0.434 (Avg 0.3716) IoU:0.452 (Avg 0.4975) Dice:0.6207 (Avg 0.6550) LR 9.78e-04   (AvgTime 0.3)   \n",
            "INFO:root:   [Train] Epoch: [2][12/12]  Loss:0.409 (Avg 0.3747) IoU:0.460 (Avg 0.4943) Dice:0.6289 (Avg 0.6528) LR 9.78e-04   (AvgTime 0.3)   \n",
            "   [Train] Epoch: [2][12/12]  Loss:0.409 (Avg 0.3747) IoU:0.460 (Avg 0.4943) Dice:0.6289 (Avg 0.6528) LR 9.78e-04   (AvgTime 0.3)   \n",
            "INFO:root:Validation\n",
            "Validation\n",
            "INFO:root:   [Val] Epoch: [2][1/3]  Loss:0.479 (Avg 0.4788) IoU:0.324 (Avg 0.3244) Dice:0.4888 (Avg 0.4888) (AvgTime 0.2)   \n",
            "   [Val] Epoch: [2][1/3]  Loss:0.479 (Avg 0.4788) IoU:0.324 (Avg 0.3244) Dice:0.4888 (Avg 0.4888) (AvgTime 0.2)   \n",
            "INFO:root:   [Val] Epoch: [2][2/3]  Loss:0.421 (Avg 0.4500) IoU:0.522 (Avg 0.4232) Dice:0.6851 (Avg 0.5869) (AvgTime 0.2)   \n",
            "   [Val] Epoch: [2][2/3]  Loss:0.421 (Avg 0.4500) IoU:0.522 (Avg 0.4232) Dice:0.6851 (Avg 0.5869) (AvgTime 0.2)   \n",
            "INFO:root:   [Val] Epoch: [2][3/3]  Loss:1.449 (Avg 0.7829) IoU:0.145 (Avg 0.3304) Dice:0.2248 (Avg 0.4662) (AvgTime 0.2)   \n",
            "   [Val] Epoch: [2][3/3]  Loss:1.449 (Avg 0.7829) IoU:0.145 (Avg 0.3304) Dice:0.2248 (Avg 0.4662) (AvgTime 0.2)   \n",
            "INFO:root:\t early_stopping_count: 1/50\n",
            "\t early_stopping_count: 1/50\n",
            "INFO:root:\n",
            "========= Epoch [3/2001] =========\n",
            "\n",
            "========= Epoch [3/2001] =========\n",
            "INFO:root:Test_session_04.23_17h54\n",
            "Test_session_04.23_17h54\n",
            "INFO:root:Training with batch size : 2\n",
            "Training with batch size : 2\n",
            "INFO:root:   [Train] Epoch: [3][1/12]  Loss:0.289 (Avg 0.2888) IoU:0.643 (Avg 0.6430) Dice:0.7827 (Avg 0.7827) LR 9.14e-04   (AvgTime 0.3)   \n",
            "   [Train] Epoch: [3][1/12]  Loss:0.289 (Avg 0.2888) IoU:0.643 (Avg 0.6430) Dice:0.7827 (Avg 0.7827) LR 9.14e-04   (AvgTime 0.3)   \n",
            "INFO:root:   [Train] Epoch: [3][2/12]  Loss:0.316 (Avg 0.3023) IoU:0.571 (Avg 0.6072) Dice:0.7271 (Avg 0.7549) LR 9.14e-04   (AvgTime 0.3)   \n",
            "   [Train] Epoch: [3][2/12]  Loss:0.316 (Avg 0.3023) IoU:0.571 (Avg 0.6072) Dice:0.7271 (Avg 0.7549) LR 9.14e-04   (AvgTime 0.3)   \n",
            "INFO:root:   [Train] Epoch: [3][3/12]  Loss:0.286 (Avg 0.2967) IoU:0.620 (Avg 0.6116) Dice:0.7643 (Avg 0.7580) LR 9.14e-04   (AvgTime 0.3)   \n",
            "   [Train] Epoch: [3][3/12]  Loss:0.286 (Avg 0.2967) IoU:0.620 (Avg 0.6116) Dice:0.7643 (Avg 0.7580) LR 9.14e-04   (AvgTime 0.3)   \n",
            "INFO:root:   [Train] Epoch: [3][4/12]  Loss:0.282 (Avg 0.2931) IoU:0.618 (Avg 0.6132) Dice:0.7620 (Avg 0.7590) LR 9.14e-04   (AvgTime 0.3)   \n",
            "   [Train] Epoch: [3][4/12]  Loss:0.282 (Avg 0.2931) IoU:0.618 (Avg 0.6132) Dice:0.7620 (Avg 0.7590) LR 9.14e-04   (AvgTime 0.3)   \n",
            "INFO:root:   [Train] Epoch: [3][5/12]  Loss:0.283 (Avg 0.2912) IoU:0.621 (Avg 0.6147) Dice:0.7658 (Avg 0.7604) LR 9.14e-04   (AvgTime 0.3)   \n",
            "   [Train] Epoch: [3][5/12]  Loss:0.283 (Avg 0.2912) IoU:0.621 (Avg 0.6147) Dice:0.7658 (Avg 0.7604) LR 9.14e-04   (AvgTime 0.3)   \n",
            "INFO:root:   [Train] Epoch: [3][6/12]  Loss:0.232 (Avg 0.2814) IoU:0.689 (Avg 0.6271) Dice:0.8144 (Avg 0.7694) LR 9.14e-04   (AvgTime 0.3)   \n",
            "   [Train] Epoch: [3][6/12]  Loss:0.232 (Avg 0.2814) IoU:0.689 (Avg 0.6271) Dice:0.8144 (Avg 0.7694) LR 9.14e-04   (AvgTime 0.3)   \n",
            "INFO:root:   [Train] Epoch: [3][7/12]  Loss:0.291 (Avg 0.2827) IoU:0.620 (Avg 0.6260) Dice:0.7652 (Avg 0.7688) LR 9.14e-04   (AvgTime 0.3)   \n",
            "   [Train] Epoch: [3][7/12]  Loss:0.291 (Avg 0.2827) IoU:0.620 (Avg 0.6260) Dice:0.7652 (Avg 0.7688) LR 9.14e-04   (AvgTime 0.3)   \n",
            "INFO:root:   [Train] Epoch: [3][8/12]  Loss:0.345 (Avg 0.2905) IoU:0.553 (Avg 0.6169) Dice:0.7060 (Avg 0.7609) LR 9.14e-04   (AvgTime 0.3)   \n",
            "   [Train] Epoch: [3][8/12]  Loss:0.345 (Avg 0.2905) IoU:0.553 (Avg 0.6169) Dice:0.7060 (Avg 0.7609) LR 9.14e-04   (AvgTime 0.3)   \n",
            "INFO:root:   [Train] Epoch: [3][9/12]  Loss:0.378 (Avg 0.3002) IoU:0.431 (Avg 0.5962) Dice:0.6019 (Avg 0.7433) LR 9.14e-04   (AvgTime 0.3)   \n",
            "   [Train] Epoch: [3][9/12]  Loss:0.378 (Avg 0.3002) IoU:0.431 (Avg 0.5962) Dice:0.6019 (Avg 0.7433) LR 9.14e-04   (AvgTime 0.3)   \n",
            "INFO:root:   [Train] Epoch: [3][10/12]  Loss:0.346 (Avg 0.3048) IoU:0.560 (Avg 0.5926) Dice:0.7161 (Avg 0.7405) LR 9.14e-04   (AvgTime 0.3)   \n",
            "   [Train] Epoch: [3][10/12]  Loss:0.346 (Avg 0.3048) IoU:0.560 (Avg 0.5926) Dice:0.7161 (Avg 0.7405) LR 9.14e-04   (AvgTime 0.3)   \n",
            "INFO:root:   [Train] Epoch: [3][11/12]  Loss:0.350 (Avg 0.3089) IoU:0.545 (Avg 0.5883) Dice:0.7051 (Avg 0.7373) LR 9.14e-04   (AvgTime 0.3)   \n",
            "   [Train] Epoch: [3][11/12]  Loss:0.350 (Avg 0.3089) IoU:0.545 (Avg 0.5883) Dice:0.7051 (Avg 0.7373) LR 9.14e-04   (AvgTime 0.3)   \n",
            "INFO:root:   [Train] Epoch: [3][12/12]  Loss:0.334 (Avg 0.3111) IoU:0.514 (Avg 0.5821) Dice:0.6748 (Avg 0.7321) LR 9.14e-04   (AvgTime 0.3)   \n",
            "   [Train] Epoch: [3][12/12]  Loss:0.334 (Avg 0.3111) IoU:0.514 (Avg 0.5821) Dice:0.6748 (Avg 0.7321) LR 9.14e-04   (AvgTime 0.3)   \n",
            "INFO:root:Validation\n",
            "Validation\n",
            "INFO:root:   [Val] Epoch: [3][1/3]  Loss:0.431 (Avg 0.4307) IoU:0.393 (Avg 0.3928) Dice:0.5333 (Avg 0.5333) (AvgTime 0.2)   \n",
            "   [Val] Epoch: [3][1/3]  Loss:0.431 (Avg 0.4307) IoU:0.393 (Avg 0.3928) Dice:0.5333 (Avg 0.5333) (AvgTime 0.2)   \n",
            "INFO:root:   [Val] Epoch: [3][2/3]  Loss:0.485 (Avg 0.4581) IoU:0.356 (Avg 0.3746) Dice:0.5086 (Avg 0.5209) (AvgTime 0.2)   \n",
            "   [Val] Epoch: [3][2/3]  Loss:0.485 (Avg 0.4581) IoU:0.356 (Avg 0.3746) Dice:0.5086 (Avg 0.5209) (AvgTime 0.2)   \n",
            "INFO:root:   [Val] Epoch: [3][3/3]  Loss:3.126 (Avg 1.3475) IoU:0.029 (Avg 0.2593) Dice:0.0542 (Avg 0.3653) (AvgTime 0.2)   \n",
            "   [Val] Epoch: [3][3/3]  Loss:3.126 (Avg 1.3475) IoU:0.029 (Avg 0.2593) Dice:0.0542 (Avg 0.3653) (AvgTime 0.2)   \n",
            "INFO:root:\t early_stopping_count: 2/50\n",
            "\t early_stopping_count: 2/50\n",
            "INFO:root:\n",
            "========= Epoch [4/2001] =========\n",
            "\n",
            "========= Epoch [4/2001] =========\n",
            "INFO:root:Test_session_04.23_17h54\n",
            "Test_session_04.23_17h54\n",
            "INFO:root:Training with batch size : 2\n",
            "Training with batch size : 2\n",
            "INFO:root:   [Train] Epoch: [4][1/12]  Loss:0.266 (Avg 0.2663) IoU:0.634 (Avg 0.6340) Dice:0.7753 (Avg 0.7753) LR 8.15e-04   (AvgTime 0.2)   \n",
            "   [Train] Epoch: [4][1/12]  Loss:0.266 (Avg 0.2663) IoU:0.634 (Avg 0.6340) Dice:0.7753 (Avg 0.7753) LR 8.15e-04   (AvgTime 0.2)   \n",
            "INFO:root:   [Train] Epoch: [4][2/12]  Loss:0.304 (Avg 0.2849) IoU:0.621 (Avg 0.6273) Dice:0.7641 (Avg 0.7697) LR 8.15e-04   (AvgTime 0.3)   \n",
            "   [Train] Epoch: [4][2/12]  Loss:0.304 (Avg 0.2849) IoU:0.621 (Avg 0.6273) Dice:0.7641 (Avg 0.7697) LR 8.15e-04   (AvgTime 0.3)   \n",
            "INFO:root:   [Train] Epoch: [4][3/12]  Loss:0.245 (Avg 0.2718) IoU:0.697 (Avg 0.6504) Dice:0.8201 (Avg 0.7865) LR 8.15e-04   (AvgTime 0.3)   \n",
            "   [Train] Epoch: [4][3/12]  Loss:0.245 (Avg 0.2718) IoU:0.697 (Avg 0.6504) Dice:0.8201 (Avg 0.7865) LR 8.15e-04   (AvgTime 0.3)   \n",
            "INFO:root:   [Train] Epoch: [4][4/12]  Loss:0.318 (Avg 0.2832) IoU:0.493 (Avg 0.6110) Dice:0.6592 (Avg 0.7547) LR 8.15e-04   (AvgTime 0.3)   \n",
            "   [Train] Epoch: [4][4/12]  Loss:0.318 (Avg 0.2832) IoU:0.493 (Avg 0.6110) Dice:0.6592 (Avg 0.7547) LR 8.15e-04   (AvgTime 0.3)   \n",
            "INFO:root:   [Train] Epoch: [4][5/12]  Loss:0.317 (Avg 0.2900) IoU:0.547 (Avg 0.5983) Dice:0.7045 (Avg 0.7446) LR 8.15e-04   (AvgTime 0.3)   \n",
            "   [Train] Epoch: [4][5/12]  Loss:0.317 (Avg 0.2900) IoU:0.547 (Avg 0.5983) Dice:0.7045 (Avg 0.7446) LR 8.15e-04   (AvgTime 0.3)   \n",
            "INFO:root:   [Train] Epoch: [4][6/12]  Loss:0.304 (Avg 0.2924) IoU:0.555 (Avg 0.5911) Dice:0.7129 (Avg 0.7393) LR 8.15e-04   (AvgTime 0.3)   \n",
            "   [Train] Epoch: [4][6/12]  Loss:0.304 (Avg 0.2924) IoU:0.555 (Avg 0.5911) Dice:0.7129 (Avg 0.7393) LR 8.15e-04   (AvgTime 0.3)   \n",
            "INFO:root:   [Train] Epoch: [4][7/12]  Loss:0.223 (Avg 0.2824) IoU:0.692 (Avg 0.6056) Dice:0.8168 (Avg 0.7504) LR 8.15e-04   (AvgTime 0.3)   \n",
            "   [Train] Epoch: [4][7/12]  Loss:0.223 (Avg 0.2824) IoU:0.692 (Avg 0.6056) Dice:0.8168 (Avg 0.7504) LR 8.15e-04   (AvgTime 0.3)   \n",
            "INFO:root:   [Train] Epoch: [4][8/12]  Loss:0.359 (Avg 0.2921) IoU:0.539 (Avg 0.5972) Dice:0.6982 (Avg 0.7439) LR 8.15e-04   (AvgTime 0.3)   \n",
            "   [Train] Epoch: [4][8/12]  Loss:0.359 (Avg 0.2921) IoU:0.539 (Avg 0.5972) Dice:0.6982 (Avg 0.7439) LR 8.15e-04   (AvgTime 0.3)   \n",
            "INFO:root:   [Train] Epoch: [4][9/12]  Loss:0.266 (Avg 0.2892) IoU:0.609 (Avg 0.5986) Dice:0.7572 (Avg 0.7454) LR 8.15e-04   (AvgTime 0.3)   \n",
            "   [Train] Epoch: [4][9/12]  Loss:0.266 (Avg 0.2892) IoU:0.609 (Avg 0.5986) Dice:0.7572 (Avg 0.7454) LR 8.15e-04   (AvgTime 0.3)   \n",
            "INFO:root:   [Train] Epoch: [4][10/12]  Loss:0.326 (Avg 0.2928) IoU:0.539 (Avg 0.5926) Dice:0.6949 (Avg 0.7403) LR 8.15e-04   (AvgTime 0.3)   \n",
            "   [Train] Epoch: [4][10/12]  Loss:0.326 (Avg 0.2928) IoU:0.539 (Avg 0.5926) Dice:0.6949 (Avg 0.7403) LR 8.15e-04   (AvgTime 0.3)   \n",
            "INFO:root:   [Train] Epoch: [4][11/12]  Loss:0.315 (Avg 0.2948) IoU:0.561 (Avg 0.5897) Dice:0.7186 (Avg 0.7383) LR 8.15e-04   (AvgTime 0.3)   \n",
            "   [Train] Epoch: [4][11/12]  Loss:0.315 (Avg 0.2948) IoU:0.561 (Avg 0.5897) Dice:0.7186 (Avg 0.7383) LR 8.15e-04   (AvgTime 0.3)   \n",
            "INFO:root:   [Train] Epoch: [4][12/12]  Loss:0.288 (Avg 0.2943) IoU:0.580 (Avg 0.5889) Dice:0.7317 (Avg 0.7378) LR 8.15e-04   (AvgTime 0.3)   \n",
            "   [Train] Epoch: [4][12/12]  Loss:0.288 (Avg 0.2943) IoU:0.580 (Avg 0.5889) Dice:0.7317 (Avg 0.7378) LR 8.15e-04   (AvgTime 0.3)   \n",
            "INFO:root:Validation\n",
            "Validation\n",
            "INFO:root:   [Val] Epoch: [4][1/3]  Loss:0.302 (Avg 0.3019) IoU:0.598 (Avg 0.5985) Dice:0.7472 (Avg 0.7472) (AvgTime 0.2)   \n",
            "   [Val] Epoch: [4][1/3]  Loss:0.302 (Avg 0.3019) IoU:0.598 (Avg 0.5985) Dice:0.7472 (Avg 0.7472) (AvgTime 0.2)   \n",
            "INFO:root:   [Val] Epoch: [4][2/3]  Loss:1.184 (Avg 0.7429) IoU:0.228 (Avg 0.4134) Dice:0.3135 (Avg 0.5304) (AvgTime 0.2)   \n",
            "   [Val] Epoch: [4][2/3]  Loss:1.184 (Avg 0.7429) IoU:0.228 (Avg 0.4134) Dice:0.3135 (Avg 0.5304) (AvgTime 0.2)   \n",
            "INFO:root:   [Val] Epoch: [4][3/3]  Loss:0.409 (Avg 0.6316) IoU:0.454 (Avg 0.4268) Dice:0.5984 (Avg 0.5531) (AvgTime 0.2)   \n",
            "   [Val] Epoch: [4][3/3]  Loss:0.409 (Avg 0.6316) IoU:0.454 (Avg 0.4268) Dice:0.5984 (Avg 0.5531) (AvgTime 0.2)   \n",
            "INFO:root:\t early_stopping_count: 3/50\n",
            "\t early_stopping_count: 3/50\n",
            "INFO:root:\n",
            "========= Epoch [5/2001] =========\n",
            "\n",
            "========= Epoch [5/2001] =========\n",
            "INFO:root:Test_session_04.23_17h54\n",
            "Test_session_04.23_17h54\n",
            "INFO:root:Training with batch size : 2\n",
            "Training with batch size : 2\n",
            "INFO:root:   [Train] Epoch: [5][1/12]  Loss:0.347 (Avg 0.3469) IoU:0.548 (Avg 0.5484) Dice:0.7069 (Avg 0.7069) LR 6.89e-04   (AvgTime 0.3)   \n",
            "   [Train] Epoch: [5][1/12]  Loss:0.347 (Avg 0.3469) IoU:0.548 (Avg 0.5484) Dice:0.7069 (Avg 0.7069) LR 6.89e-04   (AvgTime 0.3)   \n",
            "INFO:root:   [Train] Epoch: [5][2/12]  Loss:0.245 (Avg 0.2958) IoU:0.691 (Avg 0.6198) Dice:0.8158 (Avg 0.7614) LR 6.89e-04   (AvgTime 0.3)   \n",
            "   [Train] Epoch: [5][2/12]  Loss:0.245 (Avg 0.2958) IoU:0.691 (Avg 0.6198) Dice:0.8158 (Avg 0.7614) LR 6.89e-04   (AvgTime 0.3)   \n",
            "INFO:root:   [Train] Epoch: [5][3/12]  Loss:0.298 (Avg 0.2966) IoU:0.501 (Avg 0.5802) Dice:0.6626 (Avg 0.7285) LR 6.89e-04   (AvgTime 0.3)   \n",
            "   [Train] Epoch: [5][3/12]  Loss:0.298 (Avg 0.2966) IoU:0.501 (Avg 0.5802) Dice:0.6626 (Avg 0.7285) LR 6.89e-04   (AvgTime 0.3)   \n",
            "INFO:root:   [Train] Epoch: [5][4/12]  Loss:0.252 (Avg 0.2854) IoU:0.631 (Avg 0.5929) Dice:0.7723 (Avg 0.7394) LR 6.89e-04   (AvgTime 0.3)   \n",
            "   [Train] Epoch: [5][4/12]  Loss:0.252 (Avg 0.2854) IoU:0.631 (Avg 0.5929) Dice:0.7723 (Avg 0.7394) LR 6.89e-04   (AvgTime 0.3)   \n",
            "INFO:root:   [Train] Epoch: [5][5/12]  Loss:0.363 (Avg 0.3010) IoU:0.511 (Avg 0.5766) Dice:0.6757 (Avg 0.7267) LR 6.89e-04   (AvgTime 0.3)   \n",
            "   [Train] Epoch: [5][5/12]  Loss:0.363 (Avg 0.3010) IoU:0.511 (Avg 0.5766) Dice:0.6757 (Avg 0.7267) LR 6.89e-04   (AvgTime 0.3)   \n",
            "INFO:root:   [Train] Epoch: [5][6/12]  Loss:0.264 (Avg 0.2948) IoU:0.627 (Avg 0.5850) Dice:0.7711 (Avg 0.7341) LR 6.89e-04   (AvgTime 0.3)   \n",
            "   [Train] Epoch: [5][6/12]  Loss:0.264 (Avg 0.2948) IoU:0.627 (Avg 0.5850) Dice:0.7711 (Avg 0.7341) LR 6.89e-04   (AvgTime 0.3)   \n",
            "INFO:root:   [Train] Epoch: [5][7/12]  Loss:0.244 (Avg 0.2875) IoU:0.696 (Avg 0.6009) Dice:0.8202 (Avg 0.7464) LR 6.89e-04   (AvgTime 0.3)   \n",
            "   [Train] Epoch: [5][7/12]  Loss:0.244 (Avg 0.2875) IoU:0.696 (Avg 0.6009) Dice:0.8202 (Avg 0.7464) LR 6.89e-04   (AvgTime 0.3)   \n",
            "INFO:root:   [Train] Epoch: [5][8/12]  Loss:0.348 (Avg 0.2951) IoU:0.540 (Avg 0.5932) Dice:0.7010 (Avg 0.7407) LR 6.89e-04   (AvgTime 0.3)   \n",
            "   [Train] Epoch: [5][8/12]  Loss:0.348 (Avg 0.2951) IoU:0.540 (Avg 0.5932) Dice:0.7010 (Avg 0.7407) LR 6.89e-04   (AvgTime 0.3)   \n",
            "INFO:root:   [Train] Epoch: [5][9/12]  Loss:0.266 (Avg 0.2918) IoU:0.623 (Avg 0.5966) Dice:0.7673 (Avg 0.7437) LR 6.89e-04   (AvgTime 0.3)   \n",
            "   [Train] Epoch: [5][9/12]  Loss:0.266 (Avg 0.2918) IoU:0.623 (Avg 0.5966) Dice:0.7673 (Avg 0.7437) LR 6.89e-04   (AvgTime 0.3)   \n",
            "INFO:root:   [Train] Epoch: [5][10/12]  Loss:0.267 (Avg 0.2893) IoU:0.644 (Avg 0.6013) Dice:0.7826 (Avg 0.7475) LR 6.89e-04   (AvgTime 0.3)   \n",
            "   [Train] Epoch: [5][10/12]  Loss:0.267 (Avg 0.2893) IoU:0.644 (Avg 0.6013) Dice:0.7826 (Avg 0.7475) LR 6.89e-04   (AvgTime 0.3)   \n",
            "INFO:root:   [Train] Epoch: [5][11/12]  Loss:0.225 (Avg 0.2834) IoU:0.671 (Avg 0.6076) Dice:0.8030 (Avg 0.7526) LR 6.89e-04   (AvgTime 0.3)   \n",
            "   [Train] Epoch: [5][11/12]  Loss:0.225 (Avg 0.2834) IoU:0.671 (Avg 0.6076) Dice:0.8030 (Avg 0.7526) LR 6.89e-04   (AvgTime 0.3)   \n",
            "INFO:root:   [Train] Epoch: [5][12/12]  Loss:0.399 (Avg 0.2931) IoU:0.445 (Avg 0.5940) Dice:0.6151 (Avg 0.7411) LR 6.89e-04   (AvgTime 0.3)   \n",
            "   [Train] Epoch: [5][12/12]  Loss:0.399 (Avg 0.2931) IoU:0.445 (Avg 0.5940) Dice:0.6151 (Avg 0.7411) LR 6.89e-04   (AvgTime 0.3)   \n",
            "INFO:root:Validation\n",
            "Validation\n",
            "INFO:root:   [Val] Epoch: [5][1/3]  Loss:0.320 (Avg 0.3204) IoU:0.580 (Avg 0.5799) Dice:0.7339 (Avg 0.7339) (AvgTime 0.2)   \n",
            "   [Val] Epoch: [5][1/3]  Loss:0.320 (Avg 0.3204) IoU:0.580 (Avg 0.5799) Dice:0.7339 (Avg 0.7339) (AvgTime 0.2)   \n",
            "INFO:root:   [Val] Epoch: [5][2/3]  Loss:0.645 (Avg 0.4829) IoU:0.291 (Avg 0.4356) Dice:0.3721 (Avg 0.5530) (AvgTime 0.2)   \n",
            "   [Val] Epoch: [5][2/3]  Loss:0.645 (Avg 0.4829) IoU:0.291 (Avg 0.4356) Dice:0.3721 (Avg 0.5530) (AvgTime 0.2)   \n",
            "INFO:root:   [Val] Epoch: [5][3/3]  Loss:0.295 (Avg 0.4204) IoU:0.600 (Avg 0.4903) Dice:0.7493 (Avg 0.6185) (AvgTime 0.2)   \n",
            "   [Val] Epoch: [5][3/3]  Loss:0.295 (Avg 0.4204) IoU:0.600 (Avg 0.4903) Dice:0.7493 (Avg 0.6185) (AvgTime 0.2)   \n",
            "INFO:root:\t early_stopping_count: 4/50\n",
            "\t early_stopping_count: 4/50\n"
          ]
        }
      ]
    },
    {
      "cell_type": "code",
      "source": [
        "import torch.optim\n",
        "from Load_Dataset import ValGenerator, ImageToImage2D\n",
        "from torch.utils.data import DataLoader\n",
        "import warnings\n",
        "\n",
        "warnings.filterwarnings(\"ignore\")\n",
        "import Config as config\n",
        "import matplotlib.pyplot as plt\n",
        "from tqdm import tqdm\n",
        "import os\n",
        "from nets.LViT import LViT\n",
        "from utils import *\n",
        "import cv2\n",
        "\n",
        "\n",
        "def show_image_with_dice(predict_save, labs, save_path):\n",
        "    tmp_lbl = (labs).astype(np.float32)\n",
        "    tmp_3dunet = (predict_save).astype(np.float32)\n",
        "    dice_pred = 2 * np.sum(tmp_lbl * tmp_3dunet) / (np.sum(tmp_lbl) + np.sum(tmp_3dunet) + 1e-5)\n",
        "    # dice_show = \"%.3f\" % (dice_pred)\n",
        "    iou_pred = jaccard_score(tmp_lbl.reshape(-1), tmp_3dunet.reshape(-1))\n",
        "    # fig, ax = plt.subplots()\n",
        "    # plt.gca().add_patch(patches.Rectangle(xy=(4, 4),width=120,height=20,color=\"white\",linewidth=1))\n",
        "    if config.task_name == \"MoNuSeg\":\n",
        "        predict_save = cv2.pyrUp(predict_save, (448, 448))\n",
        "        predict_save = cv2.resize(predict_save, (2000, 2000))\n",
        "        # kernel = np.array([[0, -1, 0], [-1, 5, -1], [0, -1, 0]], np.float32) #定义一个核\n",
        "        # predict_save = cv2.filter2D(predict_save, -1, kernel=kernel)\n",
        "        cv2.imwrite(save_path, predict_save * 255)\n",
        "    else:\n",
        "        cv2.imwrite(save_path, predict_save * 255)\n",
        "    # plt.imshow(predict_save * 255,cmap='gray')\n",
        "    # plt.text(x=10, y=24, s=\"Dice:\" + str(dice_show), fontsize=5)\n",
        "    # plt.axis(\"off\")\n",
        "    # remove the white borders\n",
        "    # height, width = predict_save.shape\n",
        "    # fig.set_size_inches(width / 100.0 / 3.0, height / 100.0 / 3.0)\n",
        "    # plt.gca().xaxis.set_major_locator(plt.NullLocator())\n",
        "    # plt.gca().yaxis.set_major_locator(plt.NullLocator())\n",
        "    # plt.subplots_adjust(top=1, bottom=0, left=0, right=1, hspace=0, wspace=0)\n",
        "    # plt.margins(0, 0)\n",
        "    # plt.savefig(save_path, dpi=2000)\n",
        "    # plt.close()\n",
        "    return dice_pred, iou_pred\n",
        "\n",
        "\n",
        "def vis_and_save_heatmap(model, input_img, text, img_RGB, labs, vis_save_path, dice_pred, dice_ens):\n",
        "    model.eval()\n",
        "\n",
        "    output = model(input_img.cuda(), text.cuda())\n",
        "    pred_class = torch.where(output > 0.5, torch.ones_like(output), torch.zeros_like(output))\n",
        "    predict_save = pred_class[0].cpu().data.numpy()\n",
        "    predict_save = np.reshape(predict_save, (config.img_size, config.img_size))\n",
        "    dice_pred_tmp, iou_tmp = show_image_with_dice(predict_save, labs,\n",
        "                                                  save_path=vis_save_path + '_predict' + model_type + '.jpg')\n",
        "    return dice_pred_tmp, iou_tmp\n",
        "\n",
        "\n",
        "if __name__ == '__main__':\n",
        "    os.environ[\"CUDA_VISIBLE_DEVICES\"] = \"0\"\n",
        "    test_session ='test-30epoch'\n",
        "\n",
        "    if config.task_name == \"MoNuSeg\":\n",
        "        test_num = 14\n",
        "        model_type = config.model_name\n",
        "        model_path = \"/content/drive/MyDrive/LViT/MoNuSeg/LViT/Test_session_04.23_16h21/models/best_model-LViT.pth.tar\"\n",
        "\n",
        "    elif config.task_name == \"Covid19\":\n",
        "        test_num = 2113\n",
        "        model_type = config.model_name\n",
        "        model_path = \"./Covid19/\" + model_type + \"/\" + test_session + \"/models/best_model-\" + model_type + \".pth.tar\"\n",
        "\n",
        "    save_path = config.task_name + '/' + model_type + '/' + test_session + '/'\n",
        "    vis_path = \"./\" + config.task_name + '_visualize_test/'\n",
        "    if not os.path.exists(vis_path):\n",
        "        os.makedirs(vis_path)\n",
        "\n",
        "    checkpoint = torch.load(model_path, map_location='cuda')\n",
        "\n",
        "    if model_type == 'LViT':\n",
        "        config_vit = config.get_CTranS_config()\n",
        "        model = LViT(config_vit, n_channels=config.n_channels, n_classes=config.n_labels)\n",
        "\n",
        "    elif model_type == 'LViT_pretrain':\n",
        "        config_vit = config.get_CTranS_config()\n",
        "        model = LViT(config_vit, n_channels=config.n_channels, n_classes=config.n_labels)\n",
        "\n",
        "\n",
        "    else:\n",
        "        raise TypeError('Please enter a valid name for the model type')\n",
        "\n",
        "    model = model.cuda()\n",
        "    if torch.cuda.device_count() > 1:\n",
        "       print(\"Let's use {0} GPUs!\".format(torch.cuda.device_count()))\n",
        "       model = nn.DataParallel(model)\n",
        "    model.load_state_dict(checkpoint['state_dict'], strict=False)\n",
        "    print('Model loaded !')\n",
        "    tf_test = ValGenerator(output_size=[config.img_size, config.img_size])\n",
        "    test_text = read_text(config.test_dataset + 'Test_text.xlsx')\n",
        "    test_dataset = ImageToImage2D(config.test_dataset, config.task_name, test_text, tf_test, image_size=config.img_size)\n",
        "    test_loader = DataLoader(test_dataset, batch_size=1, shuffle=False)\n",
        "\n",
        "    dice_pred = 0.0\n",
        "    iou_pred = 0.0\n",
        "    dice_ens = 0.0\n",
        "\n",
        "    with tqdm(total=test_num, desc='Test visualize', unit='img', ncols=70, leave=True) as pbar:\n",
        "        for i, (sampled_batch, names) in enumerate(test_loader, 1):\n",
        "            # print(names)\n",
        "            test_data, test_label, test_text = sampled_batch['image'], sampled_batch['label'], sampled_batch['text']\n",
        "            arr = test_data.numpy()\n",
        "            arr = arr.astype(np.float32())\n",
        "            lab = test_label.data.numpy()\n",
        "            img_lab = np.reshape(lab, (lab.shape[1], lab.shape[2])) * 255\n",
        "            fig, ax = plt.subplots()\n",
        "            plt.imshow(img_lab, cmap='gray')\n",
        "            plt.axis(\"off\")\n",
        "            height, width = config.img_size, config.img_size\n",
        "            fig.set_size_inches(width / 100.0 / 3.0, height / 100.0 / 3.0)\n",
        "            plt.gca().xaxis.set_major_locator(plt.NullLocator())\n",
        "            plt.gca().yaxis.set_major_locator(plt.NullLocator())\n",
        "            plt.subplots_adjust(top=1, bottom=0, left=0, right=1, hspace=0, wspace=0)\n",
        "            plt.margins(0, 0)\n",
        "            plt.savefig(vis_path + str(names) + \"_lab.jpg\", dpi=300)\n",
        "            plt.close()\n",
        "            input_img = torch.from_numpy(arr)\n",
        "            dice_pred_t, iou_pred_t = vis_and_save_heatmap(model, input_img, test_text, None, lab,\n",
        "                                                           vis_path + str(names),\n",
        "                                                           dice_pred=dice_pred, dice_ens=dice_ens)\n",
        "            dice_pred += dice_pred_t\n",
        "            iou_pred += iou_pred_t\n",
        "            torch.cuda.empty_cache()\n",
        "            pbar.update()\n",
        "    print(\"dice_pred\", dice_pred / test_num)\n",
        "    print(\"iou_pred\", iou_pred / test_num)"
      ],
      "metadata": {
        "colab": {
          "base_uri": "https://localhost:8080/"
        },
        "id": "SBxHzePhbldb",
        "outputId": "446304a9-d7f4-4b88-ed0f-45bad048eacd"
      },
      "execution_count": 12,
      "outputs": [
        {
          "output_type": "stream",
          "name": "stdout",
          "text": [
            "Model loaded !\n"
          ]
        },
        {
          "output_type": "stream",
          "name": "stderr",
          "text": [
            "Test visualize: 100%|████████████████| 14/14 [00:31<00:00,  2.28s/img]"
          ]
        },
        {
          "output_type": "stream",
          "name": "stdout",
          "text": [
            "dice_pred 0.77792543\n",
            "iou_pred 0.64980370040251\n"
          ]
        },
        {
          "output_type": "stream",
          "name": "stderr",
          "text": [
            "\n"
          ]
        }
      ]
    },
    {
      "cell_type": "code",
      "source": [
        "final_dice = dice_pred / test_num\n",
        "final_iou = iou_pred / test_num\n",
        "\n",
        "print(f\"\\n===== Evaluation Results on {config.task_name} ({test_num} samples) =====\")\n",
        "print(f\"Average Dice Score : {final_dice:.4f}\")\n",
        "print(f\"Average IoU Score  : {final_iou:.4f}\")\n",
        "print(\"=====================================================\")\n"
      ],
      "metadata": {
        "colab": {
          "base_uri": "https://localhost:8080/"
        },
        "id": "2mSwyjqq0kQH",
        "outputId": "fb2d7b5f-4c81-4a4a-f75b-2e41ed73418d"
      },
      "execution_count": 13,
      "outputs": [
        {
          "output_type": "stream",
          "name": "stdout",
          "text": [
            "\n",
            "===== Evaluation Results on MoNuSeg (14 samples) =====\n",
            "Average Dice Score : 0.7779\n",
            "Average IoU Score  : 0.6498\n",
            "=====================================================\n"
          ]
        }
      ]
    },
    {
      "cell_type": "code",
      "source": [
        "final_dice = dice_pred / test_num\n",
        "final_iou = iou_pred / test_num\n",
        "\n",
        "print(f\"\\n===== Evaluation Results on {config.task_name} ({test_num} samples) =====\")\n",
        "print(f\"Average Dice Score : {final_dice:.4f}\")\n",
        "print(f\"Average IoU Score  : {final_iou:.4f}\")\n",
        "print(\"=====================================================\")\n"
      ],
      "metadata": {
        "colab": {
          "base_uri": "https://localhost:8080/"
        },
        "id": "BnfUeBjG1H-W",
        "outputId": "b5e814f0-c1d0-4b40-a125-e024eb4b6001"
      },
      "execution_count": 14,
      "outputs": [
        {
          "output_type": "stream",
          "name": "stdout",
          "text": [
            "\n",
            "===== Evaluation Results on MoNuSeg (14 samples) =====\n",
            "Average Dice Score : 0.7779\n",
            "Average IoU Score  : 0.6498\n",
            "=====================================================\n"
          ]
        }
      ]
    },
    {
      "cell_type": "code",
      "source": [
        "dice_scores = []\n",
        "iou_scores = []\n",
        "\n",
        "# inside the loop\n",
        "dice_scores.append(dice_pred_t)\n",
        "iou_scores.append(iou_pred_t)\n"
      ],
      "metadata": {
        "id": "fBGgbD8F1V_v"
      },
      "execution_count": 16,
      "outputs": []
    },
    {
      "cell_type": "code",
      "source": [
        "plt.figure(figsize=(10, 4))\n",
        "plt.subplot(1, 2, 1)\n",
        "plt.hist(dice_scores, bins=20, color='skyblue', edgecolor='black')\n",
        "plt.title('Dice Score Distribution')\n",
        "plt.xlabel('Dice Score')\n",
        "plt.ylabel('Frequency')\n",
        "\n",
        "plt.subplot(1, 2, 2)\n",
        "plt.hist(iou_scores, bins=20, color='salmon', edgecolor='black')\n",
        "plt.title('IoU Score Distribution')\n",
        "plt.xlabel('IoU Score')\n",
        "plt.ylabel('Frequency')\n",
        "\n",
        "plt.tight_layout()\n",
        "plt.savefig(os.path.join(vis_path, \"score_distribution.png\"))\n",
        "plt.show()\n"
      ],
      "metadata": {
        "colab": {
          "base_uri": "https://localhost:8080/",
          "height": 265
        },
        "id": "HZKy4Lcv1NJU",
        "outputId": "f2017be8-d093-4cdd-850f-2f37dd148c00"
      },
      "execution_count": 17,
      "outputs": [
        {
          "output_type": "display_data",
          "data": {
            "text/plain": [
              "<Figure size 1000x400 with 2 Axes>"
            ],
            "image/png": "[encoded data removed]"
          },
          "metadata": {}
        }
      ]
    }
  ]
}